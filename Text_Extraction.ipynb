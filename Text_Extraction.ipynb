{
 "cells": [
  {
   "cell_type": "markdown",
   "metadata": {},
   "source": [
    "# Importing cv2 library"
   ]
  },
  {
   "cell_type": "code",
   "execution_count": 72,
   "metadata": {},
   "outputs": [],
   "source": [
    "import cv2"
   ]
  },
  {
   "cell_type": "markdown",
   "metadata": {},
   "source": [
    "# Taking cropped lines from image file and saving them"
   ]
  },
  {
   "cell_type": "code",
   "execution_count": 73,
   "metadata": {},
   "outputs": [],
   "source": [
    "img = cv2.imread('example.png')                     #put the required image \n",
    "gray = cv2.cvtColor(img,cv2.COLOR_BGR2GRAY)\n",
    "_ , thres = cv2.threshold(gray,0,255,cv2.THRESH_OTSU|cv2.THRESH_BINARY_INV)\n",
    "rect_kernel = cv2.getStructuringElement(cv2.MORPH_RECT,(15,5))\n",
    "dilation = cv2.dilate(thres,rect_kernel,iterations = 1)\n",
    "contours , hierarchy = cv2.findContours(dilation, cv2.RETR_EXTERNAL,cv2.CHAIN_APPROX_NONE) \n",
    "img1 = img.copy()\n",
    "image_to_lines = []\n",
    "count = 0\n",
    "for cnt in contours:\n",
    "    rect = cv2.boundingRect(cnt) \n",
    "    cv2.rectangle(img1,(rect[0],rect[1]),(rect[0] + rect[2],rect[1] + rect[3]),(0,255,0),1) \n",
    "    lines = img[rect[1]: rect[1] + rect[3], rect[0]: rect[0] + rect[2]]\n",
    "    image_to_lines.append(lines)\n",
    "\n",
    "for i in range(0,len(contours)):\n",
    "    cv2.imwrite(\"lines/line_%d.jpg\"%count,image_to_lines[i])  #create a folder for lines named lines in current directory\n",
    "    count=count+1"
   ]
  },
  {
   "cell_type": "markdown",
   "metadata": {},
   "source": [
    "# Taking cropped words from each line of image file and saving them"
   ]
  },
  {
   "cell_type": "code",
   "execution_count": 74,
   "metadata": {},
   "outputs": [],
   "source": [
    "count= 0\n",
    "words_to_letters = []\n",
    "for i in range(len(image_to_lines)):\n",
    "    lines_to_words = image_to_lines[i]\n",
    "    gray1 = cv2.cvtColor(lines_to_words,cv2.COLOR_BGR2GRAY)\n",
    "    _ , thres1 = cv2.threshold(gray1,0,255,cv2.THRESH_OTSU|cv2.THRESH_BINARY_INV)\n",
    "    rect_kernel = cv2.getStructuringElement(cv2.MORPH_RECT,(3,1))\n",
    "    dilation1 = cv2.dilate(thres1,rect_kernel,iterations = 1)\n",
    "    contours , hierarchy = cv2.findContours(dilation1, cv2.RETR_EXTERNAL,cv2.CHAIN_APPROX_NONE) \n",
    "    img2 = lines_to_words.copy()\n",
    "    for cnt in contours:\n",
    "        rect1 = cv2.boundingRect(cnt)\n",
    "        cv2.rectangle(img2,(rect1[0],rect1[1]),(rect1[0] + rect1[2],rect1[1] + rect1[3]),(0,255,0),1) \n",
    "        words = lines_to_words[rect1[1]: rect1[1] + rect1[3], rect1[0]: rect1[0] + rect1[2]]\n",
    "        words_to_letters.append(words)\n",
    "        cv2.imwrite(\"words/word_%d.jpg\"%count,words)          #create a folder for words named words in current directory\n",
    "        count=count+1"
   ]
  },
  {
   "cell_type": "markdown",
   "metadata": {},
   "source": [
    "# Taking cropped letters from each word of image file and saving them"
   ]
  },
  {
   "cell_type": "code",
   "execution_count": 75,
   "metadata": {},
   "outputs": [],
   "source": [
    "count = 0\n",
    "for i in range(len(words_to_letters)):\n",
    "    each_letter = words_to_letters[i]\n",
    "    gray2 = cv2.cvtColor(each_letter,cv2.COLOR_BGR2GRAY)\n",
    "    _ , thres2 = cv2.threshold(gray2,0,255,cv2.THRESH_OTSU|cv2.THRESH_BINARY_INV)\n",
    "    rect_kernel = cv2.getStructuringElement(cv2.MORPH_RECT,(1,1))\n",
    "    dilation2 = cv2.dilate(thres2,rect_kernel,iterations = 1)\n",
    "    contours , hierarchy = cv2.findContours(dilation2, cv2.RETR_EXTERNAL,cv2.CHAIN_APPROX_NONE) \n",
    "    img3 = each_letter.copy()\n",
    "    for cnt in contours:\n",
    "        rect2 = cv2.boundingRect(cnt)\n",
    "        cv2.rectangle(img3,(rect2[0],rect2[1]),(rect2[0] + rect2[2],rect2[1] + rect2[3]),(0,255,0),1)\n",
    "        letters = each_letter[rect2[1]: rect2[1] + rect2[3], rect2[0]: rect2[0] + rect2[2]]\n",
    "        cv2.imwrite(\"letters/letter_%d.jpg\"%count,letters)       #create a folder for letters named letters in current directory\n",
    "        count=count+1"
   ]
  }
 ],
 "metadata": {
  "kernelspec": {
   "display_name": "Python 3",
   "language": "python",
   "name": "python3"
  },
  "language_info": {
   "codemirror_mode": {
    "name": "ipython",
    "version": 3
   },
   "file_extension": ".py",
   "mimetype": "text/x-python",
   "name": "python",
   "nbconvert_exporter": "python",
   "pygments_lexer": "ipython3",
   "version": "3.8.5"
  }
 },
 "nbformat": 4,
 "nbformat_minor": 4
}
